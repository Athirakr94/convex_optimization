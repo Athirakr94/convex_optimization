{
 "cells": [
  {
   "cell_type": "markdown",
   "id": "c917485e",
   "metadata": {},
   "source": [
    "Import libraries"
   ]
  },
  {
   "cell_type": "code",
   "execution_count": 1,
   "id": "48b73a53",
   "metadata": {},
   "outputs": [],
   "source": [
    "import numpy as np\n",
    "import cvxpy as cp"
   ]
  },
  {
   "cell_type": "markdown",
   "id": "9fd83da6",
   "metadata": {},
   "source": [
    "Define the given initial parameters like cost, number of units of each currency, etc"
   ]
  },
  {
   "cell_type": "code",
   "execution_count": 2,
   "id": "90d79bfd",
   "metadata": {},
   "outputs": [
    {
     "name": "stdout",
     "output_type": "stream",
     "text": [
      "Shape of F matrix (10, 10)\n"
     ]
    }
   ],
   "source": [
    "\n",
    "tickers = [\"USD\", \"EUR\", \"GBP\", \"CAD\", \"JPY\", \"CNY\", \"RUB\", \"MXN\", \"INR\", \"BRL\"]\n",
    "n = len(tickers)#no of types of currencies\n",
    "F = np.zeros((n, n))#matrix to compute exchange rates\n",
    "# USD\n",
    "data = ([1.0, 0.87, 0.76, 1.31, 108.90, 6.72, 65.45, 19.11, 71.13, 3.69],\n",
    "# EUR\n",
    "[1.0, 0.88, 1.51, 125.15, 7.72, 75.23, 21.96, 81.85, 4.24],\n",
    "# GBP\n",
    "[1.0, 1.72, 142.94, 8.82, 85.90, 25.08, 93.50, 4.84],\n",
    "# CAD\n",
    "[1.0, 82.93, 5.11, 49.82, 14.54, 54.23, 2.81],\n",
    "# JPY\n",
    "[1.0, 0.062, 0.60, 0.18, 0.65, 0.034],\n",
    "# CNY\n",
    "[1.0, 9.74, 2.85, 10.61, 0.55],\n",
    "# RUB\n",
    "[1.0, 0.29, 1.09, 0.056],\n",
    "# MXN\n",
    "[1.0, 3.73, 0.19],\n",
    "# INR\n",
    "[1.0, 0.052],\n",
    "# BRL\n",
    "[1.0])\n",
    "for i in range(n):\n",
    "    F[i,i:] = data[i]\n",
    "for j in range(n):\n",
    "    for i in range(j+1,n):\n",
    "        F[i,j] = 1.035/F[j,i]\n",
    "print(\"Shape of F matrix\",F.shape)\n",
    "\n",
    "        \n",
    "# Initial and final portfolios.\n",
    "c_req = np.arange(1,n+1)\n",
    "c_req = 1e4*c_req/c_req.sum()\n",
    "c_init = c_req[::-1]#initial counts in hand\n"
   ]
  },
  {
   "cell_type": "markdown",
   "id": "e1ca26dc",
   "metadata": {},
   "source": [
    "Define the variable with exchanges made"
   ]
  },
  {
   "cell_type": "code",
   "execution_count": 3,
   "id": "0d028269",
   "metadata": {},
   "outputs": [],
   "source": [
    "X=cp.Variable((n,n))"
   ]
  },
  {
   "cell_type": "markdown",
   "id": "76a4c992",
   "metadata": {},
   "source": [
    "If c_init is the initial cost, X units are exchanged, and X/F units are obtained back. Then c_final is the currency in hand finally post exchange\n",
    "If conversion rate is known(mentioned as to USD in qn), then cost of a exchange is computed as difference of initial and final in hand currency multiplied by conversion rate "
   ]
  },
  {
   "cell_type": "code",
   "execution_count": 4,
   "id": "fd9c878c",
   "metadata": {},
   "outputs": [],
   "source": [
    "c_final=c_init+(X/F)@np.ones(n)-X.T@np.ones(n)\n",
    "conversion_rate=np.sqrt(F[:,0]/F[0,:])\n",
    "cost=(c_init-c_final)@conversion_rate"
   ]
  },
  {
   "cell_type": "markdown",
   "id": "bebcfc58",
   "metadata": {},
   "source": [
    "Define objective as to minimize the cost involved, constraints expressed in qn and finally the problem using the above two."
   ]
  },
  {
   "cell_type": "code",
   "execution_count": 5,
   "id": "5aeb3d52",
   "metadata": {},
   "outputs": [],
   "source": [
    "objective=cp.Minimize(cost)\n",
    "constraints=[X>=0,c_final>=c_req,c_init>=X.T@np.ones(n),cp.diag(X)==0]\n",
    "problem=cp.Problem(objective,constraints)\n"
   ]
  },
  {
   "cell_type": "markdown",
   "id": "5db5d305",
   "metadata": {},
   "source": [
    "Compute the cost by solving the problem"
   ]
  },
  {
   "cell_type": "code",
   "execution_count": 6,
   "id": "50e99d00",
   "metadata": {},
   "outputs": [
    {
     "name": "stdout",
     "output_type": "stream",
     "text": [
      "Minimum cost : 7.720059340058015\n"
     ]
    }
   ],
   "source": [
    "print(\"Minimum cost :\", problem.solve())"
   ]
  },
  {
   "cell_type": "markdown",
   "id": "b9f7ff4e",
   "metadata": {},
   "source": [
    "Compute the optimal value of X that resulted in minimum cost obtained."
   ]
  },
  {
   "cell_type": "code",
   "execution_count": 9,
   "id": "2fb5bf77",
   "metadata": {},
   "outputs": [
    {
     "name": "stdout",
     "output_type": "stream",
     "text": [
      "Exchange made are :  [[6.23500805e-14 4.26378962e-09 3.69571711e-09 5.64615472e-09\n",
      "  3.28710650e-07 1.61321086e-08 1.52124644e-07 4.45680500e-08\n",
      "  1.28905492e-07 5.88965811e-09]\n",
      " [5.05940761e-09 6.23513554e-14 8.66968379e-09 2.18217089e-08\n",
      "  1.25513932e-06 3.31083355e-08 3.09318779e-07 8.83503561e-08\n",
      "  1.95695253e-07 8.91695364e-09]\n",
      " [5.06144792e-09 2.78991627e-09 6.23537860e-14 5.45454545e+02\n",
      "  2.19926086e-06 3.75451490e-08 3.67347691e-07 1.01892604e-07\n",
      "  2.11540956e-07 9.74007895e-09]\n",
      " [5.55175378e-09 2.51244215e-09 1.88832907e-09 6.23477978e-14\n",
      "  6.78131186e-06 4.93100738e-08 4.50037900e-07 1.25444863e-07\n",
      "  2.37110316e-07 1.01946294e-08]\n",
      " [1.01153910e-08 2.71050628e-09 2.17947362e-09 3.48820899e-09\n",
      "  6.23430103e-14 4.06564748e-08 8.83995727e-07 4.38317197e-08\n",
      "  9.49168016e-07 1.01810185e-08]\n",
      " [1.65029401e+01 4.03105383e-09 3.17630883e-09 4.65764454e-09\n",
      "  4.05623583e-07 6.23420970e-14 7.27272724e+02 6.53362004e-07\n",
      "  3.74312655e-06 1.61201962e-08]\n",
      " [1.17316464e-08 3.04283792e-09 2.40179088e-09 3.77586488e-09\n",
      "  2.48497737e-07 1.35185805e-08 6.21954452e-14 3.69090908e+02\n",
      "  3.25939264e-07 1.80371420e-08]\n",
      " [1.56860433e+01 4.06057113e-09 3.13684416e-09 4.73007004e-09\n",
      "  1.81818175e+02 1.70055618e-08 1.27016042e-07 6.23455535e-14\n",
      "  5.64062708e-06 1.81818182e+02]\n",
      " [1.85192287e+01 4.36530077e-09 3.38120485e-09 5.14133496e-09\n",
      "  2.75898083e-07 1.69385277e-08 1.65479656e-07 4.66467495e-08\n",
      "  6.23494362e-14 1.53692384e-08]\n",
      " [5.09977827e+02 4.12289510e-09 3.12535598e-09 5.02687645e-09\n",
      "  3.79957363e-07 1.69783405e-08 1.27518074e-07 3.07748862e-08\n",
      "  1.35518058e-07 6.25190693e-14]]\n"
     ]
    }
   ],
   "source": [
    "print(\"Exchange made are : \", X.value)"
   ]
  },
  {
   "cell_type": "code",
   "execution_count": null,
   "id": "57b022ef",
   "metadata": {},
   "outputs": [],
   "source": []
  },
  {
   "cell_type": "code",
   "execution_count": null,
   "id": "344f870e",
   "metadata": {},
   "outputs": [],
   "source": []
  }
 ],
 "metadata": {
  "kernelspec": {
   "display_name": "Python 3 (ipykernel)",
   "language": "python",
   "name": "python3"
  },
  "language_info": {
   "codemirror_mode": {
    "name": "ipython",
    "version": 3
   },
   "file_extension": ".py",
   "mimetype": "text/x-python",
   "name": "python",
   "nbconvert_exporter": "python",
   "pygments_lexer": "ipython3",
   "version": "3.9.7"
  }
 },
 "nbformat": 4,
 "nbformat_minor": 5
}
