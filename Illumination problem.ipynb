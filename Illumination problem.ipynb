{
 "cells": [
  {
   "cell_type": "code",
   "execution_count": 6,
   "id": "2d24e23f",
   "metadata": {},
   "outputs": [],
   "source": [
    "import numpy as np\n",
    "import matplotlib.pyplot as plt\n",
    "import cvxpy as cp\n"
   ]
  },
  {
   "cell_type": "code",
   "execution_count": 8,
   "id": "cf386295",
   "metadata": {},
   "outputs": [],
   "source": [
    "n=10 #no of patches\n",
    "m=5 #no of lamps\n",
    "A=np.random.rand(n,m) #In practice it comes from intensity measures, taking as random values\n",
    "def penalty(P):\n",
    "    return np.max(np.abs(np.log(A@P)))"
   ]
  },
  {
   "cell_type": "code",
   "execution_count": 19,
   "id": "902c8860",
   "metadata": {},
   "outputs": [
    {
     "name": "stdout",
     "output_type": "stream",
     "text": [
      "Optimal powers : [0.24961544 0.13089326 0.17093681 0.49691269 0.71224074]\n",
      "Optimal penalty : 0.2248319843036962\n"
     ]
    }
   ],
   "source": [
    "#SOLUTION TO THE OBJECTIVE IN PENALTY\n",
    "P=cp.Variable(m) #variable\n",
    "constraints=[P>=0,P<=1] #constraints\n",
    "objective=cp.Minimize(cp.max(cp.maximum(A@P,cp.inv_pos(A@P))))#objective\n",
    "#element max of vector A@P and its inverse\n",
    "prob=cp.Problem(objective,constraints)\n",
    "prob.solve()\n",
    "print(\"Optimal powers :\",P.value)\n",
    "print(\"Optimal penalty :\",penalty(P.value))"
   ]
  },
  {
   "cell_type": "code",
   "execution_count": 20,
   "id": "60711c68",
   "metadata": {},
   "outputs": [
    {
     "name": "stdout",
     "output_type": "stream",
     "text": [
      "Optimal powers : [0.27647759 0.28591544 0.14936583 0.50325657 0.5822069 ]\n",
      "Optimal penalty : 0.3294340612009479\n"
     ]
    }
   ],
   "source": [
    "#LEAST SQUARES APPROXIMATION\n",
    "P=cp.Variable(m) #variable\n",
    "# no constraints considered\n",
    "objective=cp.Minimize(cp.sum_squares(A@P-np.ones((n,))))#objective\n",
    "prob=cp.Problem(objective)\n",
    "prob.solve()\n",
    "print(\"Optimal powers :\",P.value)\n",
    "print(\"Optimal penalty :\",penalty(P.value))"
   ]
  },
  {
   "cell_type": "code",
   "execution_count": 21,
   "id": "b158c38d",
   "metadata": {},
   "outputs": [
    {
     "name": "stdout",
     "output_type": "stream",
     "text": [
      "Optimal powers : [0.27647759 0.28591544 0.14936583 0.50325657 0.5822069 ]\n",
      "Optimal penalty : 0.3294340612009479\n"
     ]
    }
   ],
   "source": [
    "clipped_powers=np.clip(P.value,0,1)\n",
    "print(\"Optimal powers :\",clipped_powers)\n",
    "print(\"Optimal penalty :\",penalty(clipped_powers))"
   ]
  },
  {
   "cell_type": "code",
   "execution_count": null,
   "id": "f446f3bc",
   "metadata": {},
   "outputs": [],
   "source": []
  }
 ],
 "metadata": {
  "kernelspec": {
   "display_name": "Python 3 (ipykernel)",
   "language": "python",
   "name": "python3"
  },
  "language_info": {
   "codemirror_mode": {
    "name": "ipython",
    "version": 3
   },
   "file_extension": ".py",
   "mimetype": "text/x-python",
   "name": "python",
   "nbconvert_exporter": "python",
   "pygments_lexer": "ipython3",
   "version": "3.9.7"
  }
 },
 "nbformat": 4,
 "nbformat_minor": 5
}
